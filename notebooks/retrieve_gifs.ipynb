{
 "cells": [
  {
   "cell_type": "code",
   "execution_count": 1,
   "metadata": {},
   "outputs": [
    {
     "name": "stderr",
     "output_type": "stream",
     "text": [
      "/Users/u_brixton/miniconda3/lib/python3.9/site-packages/tqdm/auto.py:22: TqdmWarning: IProgress not found. Please update jupyter and ipywidgets. See https://ipywidgets.readthedocs.io/en/stable/user_install.html\n",
      "  from .autonotebook import tqdm as notebook_tqdm\n"
     ]
    }
   ],
   "source": [
    "from pepe_semantics.utils import visualize_giphy_gif\n",
    "from pepe_semantics.inference import get_giphy_links"
   ]
  },
  {
   "cell_type": "code",
   "execution_count": 2,
   "metadata": {},
   "outputs": [
    {
     "name": "stderr",
     "output_type": "stream",
     "text": [
      "Some weights of the model checkpoint at vinai/bertweet-base were not used when initializing RobertaModel: ['lm_head.bias', 'lm_head.dense.bias', 'lm_head.layer_norm.bias', 'lm_head.layer_norm.weight', 'lm_head.dense.weight', 'lm_head.decoder.bias', 'lm_head.decoder.weight']\n",
      "- This IS expected if you are initializing RobertaModel from the checkpoint of a model trained on another task or with another architecture (e.g. initializing a BertForSequenceClassification model from a BertForPreTraining model).\n",
      "- This IS NOT expected if you are initializing RobertaModel from the checkpoint of a model that you expect to be exactly identical (initializing a BertForSequenceClassification model from a BertForSequenceClassification model).\n",
      "Special tokens have been added in the vocabulary, make sure the associated word embeddings are fine-tuned or trained.\n"
     ]
    }
   ],
   "source": [
    "\n",
    "input_text = \"Hello! Nice to meet you!\"\n",
    "k = 5\n",
    "giphy_links = get_giphy_links(input_text, k=k)"
   ]
  },
  {
   "cell_type": "code",
   "execution_count": 4,
   "metadata": {},
   "outputs": [
    {
     "name": "stdout",
     "output_type": "stream",
     "text": [
      "link: https://media.giphy.com/media/UMOQRDqoPx8UE/giphy.mp4\n"
     ]
    },
    {
     "data": {
      "text/html": [
       "\n",
       "        <video autoplay loop muted>\n",
       "            <source src=\"https://media.giphy.com/media/UMOQRDqoPx8UE/giphy.mp4\" type=\"video/mp4\" />\n",
       "        </video>\n",
       "    "
      ],
      "text/plain": [
       "<IPython.core.display.HTML object>"
      ]
     },
     "metadata": {},
     "output_type": "display_data"
    },
    {
     "name": "stdout",
     "output_type": "stream",
     "text": [
      "link: https://media.giphy.com/media/GNvWLzRFMm3Be/giphy.mp4\n"
     ]
    },
    {
     "data": {
      "text/html": [
       "\n",
       "        <video autoplay loop muted>\n",
       "            <source src=\"https://media.giphy.com/media/GNvWLzRFMm3Be/giphy.mp4\" type=\"video/mp4\" />\n",
       "        </video>\n",
       "    "
      ],
      "text/plain": [
       "<IPython.core.display.HTML object>"
      ]
     },
     "metadata": {},
     "output_type": "display_data"
    },
    {
     "name": "stdout",
     "output_type": "stream",
     "text": [
      "link: https://media.giphy.com/media/4iJlMbTNSaOgE/giphy.mp4\n"
     ]
    },
    {
     "data": {
      "text/html": [
       "\n",
       "        <video autoplay loop muted>\n",
       "            <source src=\"https://media.giphy.com/media/4iJlMbTNSaOgE/giphy.mp4\" type=\"video/mp4\" />\n",
       "        </video>\n",
       "    "
      ],
      "text/plain": [
       "<IPython.core.display.HTML object>"
      ]
     },
     "metadata": {},
     "output_type": "display_data"
    },
    {
     "name": "stdout",
     "output_type": "stream",
     "text": [
      "link: https://media.giphy.com/media/3o7ZeObEUcfLbktUkg/giphy.mp4\n"
     ]
    },
    {
     "data": {
      "text/html": [
       "\n",
       "        <video autoplay loop muted>\n",
       "            <source src=\"https://media.giphy.com/media/3o7ZeObEUcfLbktUkg/giphy.mp4\" type=\"video/mp4\" />\n",
       "        </video>\n",
       "    "
      ],
      "text/plain": [
       "<IPython.core.display.HTML object>"
      ]
     },
     "metadata": {},
     "output_type": "display_data"
    },
    {
     "name": "stdout",
     "output_type": "stream",
     "text": [
      "link: https://media.giphy.com/media/cJSDRt8csBx0A7YFfh/giphy.mp4\n"
     ]
    },
    {
     "data": {
      "text/html": [
       "\n",
       "        <video autoplay loop muted>\n",
       "            <source src=\"https://media.giphy.com/media/cJSDRt8csBx0A7YFfh/giphy.mp4\" type=\"video/mp4\" />\n",
       "        </video>\n",
       "    "
      ],
      "text/plain": [
       "<IPython.core.display.HTML object>"
      ]
     },
     "metadata": {},
     "output_type": "display_data"
    }
   ],
   "source": [
    "for giphy_link in giphy_links[:5]:\n",
    "    print(f\"link: {giphy_link}\")\n",
    "    display(visualize_giphy_gif(giphy_link))"
   ]
  }
 ],
 "metadata": {
  "kernelspec": {
   "display_name": "Python 3.9.11 ('base')",
   "language": "python",
   "name": "python3"
  },
  "language_info": {
   "codemirror_mode": {
    "name": "ipython",
    "version": 3
   },
   "file_extension": ".py",
   "mimetype": "text/x-python",
   "name": "python",
   "nbconvert_exporter": "python",
   "pygments_lexer": "ipython3",
   "version": "3.9.13"
  },
  "orig_nbformat": 4,
  "vscode": {
   "interpreter": {
    "hash": "26b17649dbee3758cc73ea75ceb10dfcb1e888cbd4bfc7add4ebcd6ac4ad6382"
   }
  }
 },
 "nbformat": 4,
 "nbformat_minor": 2
}
